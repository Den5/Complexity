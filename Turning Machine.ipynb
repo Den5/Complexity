{
 "cells": [
  {
   "cell_type": "markdown",
   "metadata": {},
   "source": [
    "Simple Turning Machine, from srcatch"
   ]
  },
  {
   "cell_type": "code",
   "execution_count": 1,
   "metadata": {
    "collapsed": true
   },
   "outputs": [],
   "source": [
    "import numpy as np\n",
    "import sys\n",
    "import matplotlib.pyplot as plt\n",
    "%matplotlib inline\n",
    "plt.rcParams['figure.figsize'] = (10,6)"
   ]
  },
  {
   "cell_type": "markdown",
   "metadata": {},
   "source": [
    "Input Tape, array of 1 and 0's"
   ]
  },
  {
   "cell_type": "code",
   "execution_count": 2,
   "metadata": {
    "collapsed": false
   },
   "outputs": [
    {
     "name": "stdout",
     "output_type": "stream",
     "text": [
      "[0 1 1 1 1 0]\n"
     ]
    }
   ],
   "source": [
    "tape = np.array([0,1,1,1,1,0])\n",
    "print (tape)"
   ]
  },
  {
   "cell_type": "markdown",
   "metadata": {},
   "source": [
    "Create 'state' of the machine, it can be 'start' , 'even', 'odd', 'halt'"
   ]
  },
  {
   "cell_type": "code",
   "execution_count": 3,
   "metadata": {
    "collapsed": false
   },
   "outputs": [
    {
     "name": "stdout",
     "output_type": "stream",
     "text": [
      "start\n"
     ]
    }
   ],
   "source": [
    "state = 'start'\n",
    "print (state)"
   ]
  },
  {
   "cell_type": "markdown",
   "metadata": {},
   "source": [
    "Rule 1, if in 'start' state and read a '0' the change state to 'even', delete the cell"
   ]
  },
  {
   "cell_type": "code",
   "execution_count": 4,
   "metadata": {
    "collapsed": false
   },
   "outputs": [],
   "source": [
    "def Rule_One(state, tape):\n",
    "    if state == 'start':\n",
    "        if tape[0] == 0:\n",
    "            state = 'even'\n",
    "            tape = np.delete(tape, [0])\n",
    "    return state, tape\n",
    "    \n"
   ]
  },
  {
   "cell_type": "code",
   "execution_count": 5,
   "metadata": {
    "collapsed": false
   },
   "outputs": [
    {
     "name": "stdout",
     "output_type": "stream",
     "text": [
      "even\n",
      "[1 1 1 1 0]\n"
     ]
    }
   ],
   "source": [
    "state, tape = Rule_One(state, tape)\n",
    "print (state)\n",
    "print (tape)"
   ]
  },
  {
   "cell_type": "markdown",
   "metadata": {},
   "source": [
    "|Rule 2: If in 'even' state and read a 1 then change to 'odd' state, delete the cell"
   ]
  },
  {
   "cell_type": "code",
   "execution_count": 6,
   "metadata": {
    "collapsed": false
   },
   "outputs": [],
   "source": [
    "#debug forced options\n",
    "#state = 'odd'\n",
    "#state = 'even'"
   ]
  },
  {
   "cell_type": "code",
   "execution_count": 7,
   "metadata": {
    "collapsed": true
   },
   "outputs": [],
   "source": [
    "def Rule_Two(state, tape):\n",
    "    if state == 'even':\n",
    "        if tape[0] == 1:\n",
    "            state = 'odd'\n",
    "            tape = np.delete(tape, [0])\n",
    "    return state, tape"
   ]
  },
  {
   "cell_type": "code",
   "execution_count": 8,
   "metadata": {
    "collapsed": false
   },
   "outputs": [
    {
     "name": "stdout",
     "output_type": "stream",
     "text": [
      "odd\n",
      "[1 1 1 0]\n"
     ]
    }
   ],
   "source": [
    "state, tape = Rule_Two(state, tape)\n",
    "print (state)\n",
    "print (tape)"
   ]
  },
  {
   "cell_type": "markdown",
   "metadata": {},
   "source": [
    "Rule 3:If in 'odd' state and read '1' then state = 'even'"
   ]
  },
  {
   "cell_type": "code",
   "execution_count": 9,
   "metadata": {
    "collapsed": true
   },
   "outputs": [],
   "source": [
    "def Rule_Three(state, tape):\n",
    "    if state == 'odd':\n",
    "        if tape[0] == 1:\n",
    "            state = 'even'\n",
    "            answer = 'even'\n",
    "            tape = np.delete(tape, [0])\n",
    "    return state, tape"
   ]
  },
  {
   "cell_type": "code",
   "execution_count": 10,
   "metadata": {
    "collapsed": false
   },
   "outputs": [
    {
     "name": "stdout",
     "output_type": "stream",
     "text": [
      "even\n",
      "[1 1 0]\n"
     ]
    }
   ],
   "source": [
    "state, tape = Rule_Three(state, tape)\n",
    "print(state)\n",
    "print (tape)"
   ]
  },
  {
   "cell_type": "markdown",
   "metadata": {},
   "source": [
    "Rule 4:If in 'odd' state and read '0' then state = 'halt'"
   ]
  },
  {
   "cell_type": "code",
   "execution_count": 11,
   "metadata": {
    "collapsed": true
   },
   "outputs": [],
   "source": [
    "#debug forced options\n",
    "#tape = np.array([0,1,1,1,1,0])\n",
    "state = 'odd'\n",
    "#state = 'even'"
   ]
  },
  {
   "cell_type": "code",
   "execution_count": 12,
   "metadata": {
    "collapsed": true
   },
   "outputs": [],
   "source": [
    "def Rule_Four(state, tape):\n",
    "    answer = ''\n",
    "    if state == 'odd':\n",
    "        if tape[0] == 0:\n",
    "            state, answer = 'halt', 'ODD'  \n",
    "    return state, tape, answer"
   ]
  },
  {
   "cell_type": "code",
   "execution_count": 13,
   "metadata": {
    "collapsed": false
   },
   "outputs": [
    {
     "name": "stdout",
     "output_type": "stream",
     "text": [
      "\n"
     ]
    }
   ],
   "source": [
    "state, tape, answer = Rule_Four(state, tape)\n",
    "print (answer)"
   ]
  },
  {
   "cell_type": "markdown",
   "metadata": {},
   "source": [
    "Rule 5:If in 'even' state and read '0' then state = 'halt'"
   ]
  },
  {
   "cell_type": "code",
   "execution_count": 14,
   "metadata": {
    "collapsed": true
   },
   "outputs": [],
   "source": [
    "#debug forced options\n",
    "#state = 'odd'\n",
    "state = 'even'"
   ]
  },
  {
   "cell_type": "code",
   "execution_count": 15,
   "metadata": {
    "collapsed": true
   },
   "outputs": [],
   "source": [
    "def Rule_Five(state, tape, answer):\n",
    "    if state == 'even':\n",
    "        if tape[0] == 0:\n",
    "            state, answer = 'halt', 'EVEN'\n",
    "    return state, tape, answer"
   ]
  },
  {
   "cell_type": "code",
   "execution_count": 16,
   "metadata": {
    "collapsed": false
   },
   "outputs": [
    {
     "name": "stdout",
     "output_type": "stream",
     "text": [
      "\n"
     ]
    }
   ],
   "source": [
    "state, tape, answer = Rule_Five(state, tape, answer)\n",
    "print (answer)\n"
   ]
  },
  {
   "cell_type": "markdown",
   "metadata": {},
   "source": [
    "Running the Turning Machine on the input. Now bring it all together, apply all the rules on the tape"
   ]
  },
  {
   "cell_type": "code",
   "execution_count": 17,
   "metadata": {
    "collapsed": false
   },
   "outputs": [],
   "source": [
    "#debug forced options\n",
    "#state = 'odd'\n",
    "#state = 'even'\n",
    "#state = 'start'\n",
    "#tape = np.array([0,1,1,1,1,0])"
   ]
  },
  {
   "cell_type": "markdown",
   "metadata": {},
   "source": [
    "Reset the Machine"
   ]
  },
  {
   "cell_type": "code",
   "execution_count": 26,
   "metadata": {
    "collapsed": true
   },
   "outputs": [],
   "source": [
    "state = 'start'\n",
    "tape = np.array([0,1,1,1,0])\n",
    "answer = 'not_sure'"
   ]
  },
  {
   "cell_type": "code",
   "execution_count": 27,
   "metadata": {
    "collapsed": false,
    "scrolled": true
   },
   "outputs": [
    {
     "name": "stdout",
     "output_type": "stream",
     "text": [
      "The Input state =  start\n",
      "The Input tape [0 1 1 1 0]\n",
      "Rule 1 completed, State = even   Tape =  [1 1 1 0]\n",
      "Rule 2 completed, State = odd   Tape =  [1 1 0]\n",
      "Rule 3 completed, State = even   Tape =  [1 0]\n",
      "Rule 4 completed, State = even   Tape =  [1 0]\n",
      "Rule 5 completed, State = even   Tape =  [1 0]\n",
      "Rule 1 completed, State = even   Tape =  [1 0]\n",
      "Rule 2 completed, State = odd   Tape =  [0]\n",
      "Rule 3 completed, State = odd   Tape =  [0]\n",
      "Rule 4 completed, State = halt   Tape =  [0]\n",
      "Rule 5 completed, State = halt   Tape =  [0]\n",
      "The Output State is =  halt\n",
      "And the answer is ... ODD\n"
     ]
    }
   ],
   "source": [
    "print ('The Input state = ', state)\n",
    "print ('The Input tape', tape)\n",
    "\n",
    "\n",
    "while True:\n",
    "    state, tape = Rule_One(state, tape)\n",
    "    print ('Rule 1 completed, State =', state, '  Tape = ', tape)\n",
    "\n",
    "\n",
    "    state, tape = Rule_Two(state, tape)\n",
    "    print ('Rule 2 completed, State =', state, '  Tape = ', tape)\n",
    " \n",
    "        \n",
    "    state, tape = Rule_Three(state, tape)\n",
    "    print ('Rule 3 completed, State =', state, '  Tape = ', tape)\n",
    " \n",
    "\n",
    "    state, tape, answer = Rule_Four(state, tape)\n",
    "    print ('Rule 4 completed, State =', state, '  Tape = ', tape)\n",
    "  \n",
    "        \n",
    "    state, tape, answer = Rule_Five(state, tape, answer)\n",
    "    print ('Rule 5 completed, State =', state, '  Tape = ', tape)\n",
    "    \n",
    "\n",
    "    \n",
    "    if state == 'halt':\n",
    "        break\n",
    "\n",
    "print ('The Output State is = ', state )\n",
    "\n",
    "print ('And the answer is ...', answer)\n",
    "           \n",
    "    \n",
    "\n",
    "\n",
    "      "
   ]
  },
  {
   "cell_type": "code",
   "execution_count": 28,
   "metadata": {
    "collapsed": false
   },
   "outputs": [
    {
     "name": "stdout",
     "output_type": "stream",
     "text": [
      "The Output State is =  halt\n",
      "And the answer is ... ODD\n"
     ]
    }
   ],
   "source": [
    "print ('The Output State is = ', state )\n",
    "\n",
    "print ('And the answer is ...', answer)"
   ]
  },
  {
   "cell_type": "code",
   "execution_count": null,
   "metadata": {
    "collapsed": true
   },
   "outputs": [],
   "source": []
  },
  {
   "cell_type": "code",
   "execution_count": null,
   "metadata": {
    "collapsed": true
   },
   "outputs": [],
   "source": []
  }
 ],
 "metadata": {
  "kernelspec": {
   "display_name": "Python 3",
   "language": "python",
   "name": "python3"
  },
  "language_info": {
   "codemirror_mode": {
    "name": "ipython",
    "version": 3
   },
   "file_extension": ".py",
   "mimetype": "text/x-python",
   "name": "python",
   "nbconvert_exporter": "python",
   "pygments_lexer": "ipython3",
   "version": "3.6.0"
  }
 },
 "nbformat": 4,
 "nbformat_minor": 2
}
